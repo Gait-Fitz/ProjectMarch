{
 "cells": [
  {
   "cell_type": "code",
   "execution_count": 2,
   "metadata": {},
   "outputs": [],
   "source": [
    "import sympy as sp\n",
    "import numpy as np\n",
    "from IPython.display import display"
   ]
  },
  {
   "cell_type": "code",
   "execution_count": 3,
   "metadata": {},
   "outputs": [],
   "source": [
    "Ts = sp.Symbol('theta_S')\n",
    "Tl = sp.Symbol('theta_L')\n",
    "h = sp.Symbol('L_base')\n",
    "Ls = sp.Symbol('L_S')\n",
    "Ll = sp.Symbol('L_L')\n",
    "z = sp.Symbol('z')\n",
    "y = sp.Symbol('y')\n",
    "\n",
    "z_ = sp.sin(Ts)*Ls + h + sp.sin(Tl)*Ll\n",
    "y_ = sp.cos(Tl)*Ll - sp.cos(Ts)*Ls"
   ]
  },
  {
   "cell_type": "code",
   "execution_count": 4,
   "metadata": {},
   "outputs": [
    {
     "data": {
      "text/latex": [
       "$\\displaystyle \\operatorname{asin}{\\left(\\frac{L_{S} \\sin{\\left(\\theta_{S} \\right)} + L_{base} - z}{L_{L}} \\right)} + \\pi$"
      ],
      "text/plain": [
       "asin((L_S*sin(theta_S) + L_base - z)/L_L) + pi"
      ]
     },
     "metadata": {},
     "output_type": "display_data"
    },
    {
     "name": "stdout",
     "output_type": "stream",
     "text": [
      "\\operatorname{asin}{\\left(\\frac{L_{S} \\sin{\\left(\\theta_{S} \\right)} + L_{base} - z}{L_{L}} \\right)} + \\pi\n"
     ]
    },
    {
     "data": {
      "text/latex": [
       "$\\displaystyle - \\operatorname{asin}{\\left(\\frac{L_{S} \\sin{\\left(\\theta_{S} \\right)} + L_{base} - z}{L_{L}} \\right)}$"
      ],
      "text/plain": [
       "-asin((L_S*sin(theta_S) + L_base - z)/L_L)"
      ]
     },
     "metadata": {},
     "output_type": "display_data"
    },
    {
     "name": "stdout",
     "output_type": "stream",
     "text": [
      "- \\operatorname{asin}{\\left(\\frac{L_{S} \\sin{\\left(\\theta_{S} \\right)} + L_{base} - z}{L_{L}} \\right)}\n"
     ]
    }
   ],
   "source": [
    "Tl_ = sp.solve(z_ - z, Tl)\n",
    "\n",
    "for sol in Tl_:\n",
    "    display(sol)\n",
    "    sp.print_latex(sol)"
   ]
  },
  {
   "cell_type": "code",
   "execution_count": 5,
   "metadata": {},
   "outputs": [
    {
     "data": {
      "text/latex": [
       "$\\displaystyle - \\operatorname{acos}{\\left(\\frac{L_{L} \\cos{\\left(\\theta_{L} \\right)} - y}{L_{S}} \\right)} + 2 \\pi$"
      ],
      "text/plain": [
       "-acos((L_L*cos(theta_L) - y)/L_S) + 2*pi"
      ]
     },
     "metadata": {},
     "output_type": "display_data"
    },
    {
     "name": "stdout",
     "output_type": "stream",
     "text": [
      "- \\operatorname{acos}{\\left(\\frac{L_{L} \\cos{\\left(\\theta_{L} \\right)} - y}{L_{S}} \\right)} + 2 \\pi\n"
     ]
    },
    {
     "data": {
      "text/latex": [
       "$\\displaystyle \\operatorname{acos}{\\left(\\frac{L_{L} \\cos{\\left(\\theta_{L} \\right)} - y}{L_{S}} \\right)}$"
      ],
      "text/plain": [
       "acos((L_L*cos(theta_L) - y)/L_S)"
      ]
     },
     "metadata": {},
     "output_type": "display_data"
    },
    {
     "name": "stdout",
     "output_type": "stream",
     "text": [
      "\\operatorname{acos}{\\left(\\frac{L_{L} \\cos{\\left(\\theta_{L} \\right)} - y}{L_{S}} \\right)}\n"
     ]
    }
   ],
   "source": [
    "Ts_ = sp.solve(y_ - y, Ts)\n",
    "\n",
    "for sol in Ts_:\n",
    "    display(sol)\n",
    "    sp.print_latex(sol)"
   ]
  },
  {
   "cell_type": "code",
   "execution_count": 7,
   "metadata": {},
   "outputs": [
    {
     "data": {
      "text/latex": [
       "$\\displaystyle L_{L} \\sin{\\left(\\theta_{L} \\right)} - L_{S} \\sqrt{\\frac{- L_{L}^{2} \\cos^{2}{\\left(\\theta_{L} \\right)} + 2 L_{L} y \\cos{\\left(\\theta_{L} \\right)} + L_{S}^{2} - y^{2}}{L_{S}^{2}}} + L_{base}$"
      ],
      "text/plain": [
       "L_L*sin(theta_L) - L_S*sqrt((-L_L**2*cos(theta_L)**2 + 2*L_L*y*cos(theta_L) + L_S**2 - y**2)/L_S**2) + L_base"
      ]
     },
     "metadata": {},
     "output_type": "display_data"
    },
    {
     "name": "stdout",
     "output_type": "stream",
     "text": [
      "L_{L} \\sin{\\left(\\theta_{L} \\right)} - L_{S} \\sqrt{\\frac{- L_{L}^{2} \\cos^{2}{\\left(\\theta_{L} \\right)} + 2 L_{L} y \\cos{\\left(\\theta_{L} \\right)} + L_{S}^{2} - y^{2}}{L_{S}^{2}}} + L_{base}\n"
     ]
    },
    {
     "data": {
      "text/latex": [
       "$\\displaystyle L_{L} \\sin{\\left(\\theta_{L} \\right)} + L_{S} \\sqrt{\\frac{- L_{L}^{2} \\cos^{2}{\\left(\\theta_{L} \\right)} + 2 L_{L} y \\cos{\\left(\\theta_{L} \\right)} + L_{S}^{2} - y^{2}}{L_{S}^{2}}} + L_{base}$"
      ],
      "text/plain": [
       "L_L*sin(theta_L) + L_S*sqrt((-L_L**2*cos(theta_L)**2 + 2*L_L*y*cos(theta_L) + L_S**2 - y**2)/L_S**2) + L_base"
      ]
     },
     "metadata": {},
     "output_type": "display_data"
    },
    {
     "name": "stdout",
     "output_type": "stream",
     "text": [
      "L_{L} \\sin{\\left(\\theta_{L} \\right)} + L_{S} \\sqrt{\\frac{- L_{L}^{2} \\cos^{2}{\\left(\\theta_{L} \\right)} + 2 L_{L} y \\cos{\\left(\\theta_{L} \\right)} + L_{S}^{2} - y^{2}}{L_{S}^{2}}} + L_{base}\n"
     ]
    }
   ],
   "source": [
    "z_unique = []\n",
    "\n",
    "for sol1 in Tl_:\n",
    "    for sol2 in Ts_:\n",
    "        z_subs = sp.solve(sol1.subs(Ts, sol2)-Tl, z)\n",
    "\n",
    "        for sol in z_subs:\n",
    "            if sol not in z_unique:\n",
    "                display(sol)\n",
    "                sp.print_latex(sol)\n",
    "                z_unique.append(sol)"
   ]
  },
  {
   "cell_type": "code",
   "execution_count": 10,
   "metadata": {},
   "outputs": [
    {
     "data": {
      "text/latex": [
       "$\\displaystyle 2 \\operatorname{atan}{\\left(\\frac{- 2 L_{L} L_{base} + 2 L_{L} z + \\sqrt{- L_{L}^{4} + 2 L_{L}^{2} L_{S}^{2} + 2 L_{L}^{2} L_{base}^{2} - 4 L_{L}^{2} L_{base} z + 2 L_{L}^{2} y^{2} + 2 L_{L}^{2} z^{2} - L_{S}^{4} + 2 L_{S}^{2} L_{base}^{2} - 4 L_{S}^{2} L_{base} z + 2 L_{S}^{2} y^{2} + 2 L_{S}^{2} z^{2} - L_{base}^{4} + 4 L_{base}^{3} z - 2 L_{base}^{2} y^{2} - 6 L_{base}^{2} z^{2} + 4 L_{base} y^{2} z + 4 L_{base} z^{3} - y^{4} - 2 y^{2} z^{2} - z^{4}}}{L_{L}^{2} + 2 L_{L} y - L_{S}^{2} + L_{base}^{2} - 2 L_{base} z + y^{2} + z^{2}} \\right)}$"
      ],
      "text/plain": [
       "2*atan((-2*L_L*L_base + 2*L_L*z + sqrt(-L_L**4 + 2*L_L**2*L_S**2 + 2*L_L**2*L_base**2 - 4*L_L**2*L_base*z + 2*L_L**2*y**2 + 2*L_L**2*z**2 - L_S**4 + 2*L_S**2*L_base**2 - 4*L_S**2*L_base*z + 2*L_S**2*y**2 + 2*L_S**2*z**2 - L_base**4 + 4*L_base**3*z - 2*L_base**2*y**2 - 6*L_base**2*z**2 + 4*L_base*y**2*z + 4*L_base*z**3 - y**4 - 2*y**2*z**2 - z**4))/(L_L**2 + 2*L_L*y - L_S**2 + L_base**2 - 2*L_base*z + y**2 + z**2))"
      ]
     },
     "metadata": {},
     "output_type": "display_data"
    },
    {
     "name": "stdout",
     "output_type": "stream",
     "text": [
      "2 \\operatorname{atan}{\\left(\\frac{- 2 L_{L} L_{base} + 2 L_{L} z + \\sqrt{- L_{L}^{4} + 2 L_{L}^{2} L_{S}^{2} + 2 L_{L}^{2} L_{base}^{2} - 4 L_{L}^{2} L_{base} z + 2 L_{L}^{2} y^{2} + 2 L_{L}^{2} z^{2} - L_{S}^{4} + 2 L_{S}^{2} L_{base}^{2} - 4 L_{S}^{2} L_{base} z + 2 L_{S}^{2} y^{2} + 2 L_{S}^{2} z^{2} - L_{base}^{4} + 4 L_{base}^{3} z - 2 L_{base}^{2} y^{2} - 6 L_{base}^{2} z^{2} + 4 L_{base} y^{2} z + 4 L_{base} z^{3} - y^{4} - 2 y^{2} z^{2} - z^{4}}}{L_{L}^{2} + 2 L_{L} y - L_{S}^{2} + L_{base}^{2} - 2 L_{base} z + y^{2} + z^{2}} \\right)}\n"
     ]
    },
    {
     "data": {
      "text/latex": [
       "$\\displaystyle - 2 \\operatorname{atan}{\\left(\\frac{2 L_{L} L_{base} - 2 L_{L} z + \\sqrt{- L_{L}^{4} + 2 L_{L}^{2} L_{S}^{2} + 2 L_{L}^{2} L_{base}^{2} - 4 L_{L}^{2} L_{base} z + 2 L_{L}^{2} y^{2} + 2 L_{L}^{2} z^{2} - L_{S}^{4} + 2 L_{S}^{2} L_{base}^{2} - 4 L_{S}^{2} L_{base} z + 2 L_{S}^{2} y^{2} + 2 L_{S}^{2} z^{2} - L_{base}^{4} + 4 L_{base}^{3} z - 2 L_{base}^{2} y^{2} - 6 L_{base}^{2} z^{2} + 4 L_{base} y^{2} z + 4 L_{base} z^{3} - y^{4} - 2 y^{2} z^{2} - z^{4}}}{L_{L}^{2} + 2 L_{L} y - L_{S}^{2} + L_{base}^{2} - 2 L_{base} z + y^{2} + z^{2}} \\right)}$"
      ],
      "text/plain": [
       "-2*atan((2*L_L*L_base - 2*L_L*z + sqrt(-L_L**4 + 2*L_L**2*L_S**2 + 2*L_L**2*L_base**2 - 4*L_L**2*L_base*z + 2*L_L**2*y**2 + 2*L_L**2*z**2 - L_S**4 + 2*L_S**2*L_base**2 - 4*L_S**2*L_base*z + 2*L_S**2*y**2 + 2*L_S**2*z**2 - L_base**4 + 4*L_base**3*z - 2*L_base**2*y**2 - 6*L_base**2*z**2 + 4*L_base*y**2*z + 4*L_base*z**3 - y**4 - 2*y**2*z**2 - z**4))/(L_L**2 + 2*L_L*y - L_S**2 + L_base**2 - 2*L_base*z + y**2 + z**2))"
      ]
     },
     "metadata": {},
     "output_type": "display_data"
    },
    {
     "name": "stdout",
     "output_type": "stream",
     "text": [
      "- 2 \\operatorname{atan}{\\left(\\frac{2 L_{L} L_{base} - 2 L_{L} z + \\sqrt{- L_{L}^{4} + 2 L_{L}^{2} L_{S}^{2} + 2 L_{L}^{2} L_{base}^{2} - 4 L_{L}^{2} L_{base} z + 2 L_{L}^{2} y^{2} + 2 L_{L}^{2} z^{2} - L_{S}^{4} + 2 L_{S}^{2} L_{base}^{2} - 4 L_{S}^{2} L_{base} z + 2 L_{S}^{2} y^{2} + 2 L_{S}^{2} z^{2} - L_{base}^{4} + 4 L_{base}^{3} z - 2 L_{base}^{2} y^{2} - 6 L_{base}^{2} z^{2} + 4 L_{base} y^{2} z + 4 L_{base} z^{3} - y^{4} - 2 y^{2} z^{2} - z^{4}}}{L_{L}^{2} + 2 L_{L} y - L_{S}^{2} + L_{base}^{2} - 2 L_{base} z + y^{2} + z^{2}} \\right)}\n"
     ]
    }
   ],
   "source": [
    "Tl_unique = []\n",
    "\n",
    "for sol in z_unique:\n",
    "    Tl_result = sp.solve(sol - z, Tl)\n",
    "    for sol1 in Tl_result:\n",
    "        if sol1 not in Tl_unique:\n",
    "            display(sol1)\n",
    "            sp.print_latex(sol1)\n",
    "            Tl_unique.append(sol1)"
   ]
  }
 ],
 "metadata": {
  "interpreter": {
   "hash": "e7370f93d1d0cde622a1f8e1c04877d8463912d04d973331ad4851f04de6915a"
  },
  "kernelspec": {
   "display_name": "Python 3.8.10 64-bit",
   "language": "python",
   "name": "python3"
  },
  "language_info": {
   "codemirror_mode": {
    "name": "ipython",
    "version": 3
   },
   "file_extension": ".py",
   "mimetype": "text/x-python",
   "name": "python",
   "nbconvert_exporter": "python",
   "pygments_lexer": "ipython3",
   "version": "3.8.10"
  },
  "orig_nbformat": 4
 },
 "nbformat": 4,
 "nbformat_minor": 2
}
